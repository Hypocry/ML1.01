{
 "cells": [
  {
   "cell_type": "markdown",
   "id": "e29851f8-d948-47d4-b2de-2ae223c8f05e",
   "metadata": {},
   "source": [
    "**Importeren biblotheken**"
   ]
  },
  {
   "cell_type": "code",
   "execution_count": null,
   "id": "0e84c2c0-9251-47a0-ae27-62b7bb7fa082",
   "metadata": {},
   "outputs": [],
   "source": [
    "# vergeet de requirements niet te installeren!"
   ]
  },
  {
   "cell_type": "code",
   "execution_count": null,
   "id": "bdbb8dc6-2e44-4476-b74d-d072759d464c",
   "metadata": {},
   "outputs": [],
   "source": [
    "import pandas as pd\n",
    "import numpy as np\n",
    "import matplotlib.pyplot as plt\n",
    "from pmdarima import auto_arima\n",
    "import tensorflow as tf\n",
    "from tensorflow.keras.models import Sequential\n",
    "from tensorflow.keras.layers import LSTM, Dense, Dropout\n",
    "from tensorflow.keras.callbacks import EarlyStopping\n",
    "import os\n",
    "\n",
    "from keras.models import Sequential\n",
    "from keras.layers import LSTM, Dense, Dropout\n",
    "from IPython.display import display, Image\n",
    "\n",
    "tf.get_logger().setLevel('ERROR')"
   ]
  },
  {
   "cell_type": "markdown",
   "id": "61bd3933-4faf-429e-9675-c08398eebdc1",
   "metadata": {},
   "source": [
    "**1. Data inladen**\n",
    "* van Opendata een .csv-bestand met alle data gedownload van zowel benzine als gas\n",
    "* link van de csv bestanden: https://opendata.cbs.nl/statline/#/CBS/nl/dataset/80416ned/table?ts=1742817604086 (zelf even filter aanzetten voor losse .csv-files)"
   ]
  },
  {
   "cell_type": "code",
   "execution_count": null,
   "id": "83b4747d-953f-49af-9fe4-482457023415",
   "metadata": {},
   "outputs": [],
   "source": [
    "benzine_file = \"../dataset/fuel/3Benzine.csv\" #vul hie je eigen locatie in\n",
    "gas_file = \"../dataset/fuel/3Gas.csv\" #vul hie je eigen locatie in"
   ]
  },
  {
   "cell_type": "markdown",
   "id": "b7c5d20a-73aa-43c1-80cc-e826d149231e",
   "metadata": {},
   "source": [
    "**2. Data opschonen/voorbereiden**\n",
    "* maken van de csv een dataframe (tabel)"
   ]
  },
  {
   "cell_type": "code",
   "execution_count": null,
   "id": "01f35e06-a229-48fa-b9e5-8ed82edd7495",
   "metadata": {},
   "outputs": [],
   "source": [
    "df_benzine = pd.read_csv(benzine_file, delimiter=\";\", quotechar='\"')\n",
    "df_gas = pd.read_csv(gas_file, delimiter=\";\", quotechar='\"')\n",
    "\n",
    "df_benzine.columns = [\"ID\", \"Datum\", \"Benzineprijs\"]\n",
    "df_gas.columns = [\"ID\", \"Datum\", \"Gasprijs\"]\n",
    "\n",
    "df_benzine[\"Datum\"] = pd.to_datetime(df_benzine[\"Datum\"], format=\"%Y%m%d\")\n",
    "df_gas[\"Datum\"] = pd.to_datetime(df_gas[\"Datum\"], format=\"%Y%m%d\")\n",
    "\n",
    "df_benzine.drop(columns=[\"ID\"], inplace=True)\n",
    "df_gas.drop(columns=[\"ID\"], inplace=True)\n",
    "\n",
    "# Convert prijzen naar floats\n",
    "df_benzine[\"Benzineprijs\"] = df_benzine[\"Benzineprijs\"].astype(str).str.strip().str.replace(\",\", \".\").astype(float)\n",
    "df_gas[\"Gasprijs\"] = df_gas[\"Gasprijs\"].astype(str).str.strip().str.replace(\",\", \".\").astype(float)\n",
    "\n",
    "# Merge datasets op datum\n",
    "df = pd.merge(df_benzine, df_gas, on=\"Datum\", how=\"inner\")\n",
    "\n",
    "print(df.head())\n",
    "print(\"---------------------------------------------------------------\")\n",
    "print(df.describe())"
   ]
  },
  {
   "cell_type": "markdown",
   "id": "b250a413-ba7e-4cef-bda9-d79b339462cf",
   "metadata": {},
   "source": [
    "**3. Visualisatie van benzine- en gasprijzen totale dataset**"
   ]
  },
  {
   "cell_type": "code",
   "execution_count": null,
   "id": "e66d350d-fb95-4a4f-9f9e-2333713ada7c",
   "metadata": {},
   "outputs": [],
   "source": [
    "plt.figure(figsize=(12,6))\n",
    "plt.plot(df[\"Datum\"], df[\"Benzineprijs\"], label=\"Benzineprijs (€)\", color=\"blue\")\n",
    "plt.plot(df[\"Datum\"], df[\"Gasprijs\"], label=\"Gasprijs (€)\", color=\"red\")\n",
    "plt.xlabel(\"Datum\")\n",
    "plt.ylabel(\"Prijs (€)\")\n",
    "plt.title(\"Vergelijking van Benzine- en Gasprijzen\")\n",
    "plt.legend()\n",
    "plt.show()"
   ]
  },
  {
   "cell_type": "markdown",
   "id": "2b18c993-1f95-4954-bb20-326f8070c8d5",
   "metadata": {},
   "source": [
    "**4. Train/test split - Verwijder 2021-2025 voor voorspellingen**"
   ]
  },
  {
   "cell_type": "code",
   "execution_count": null,
   "id": "3b54c86c-967b-45e9-86f5-423441076be7",
   "metadata": {},
   "outputs": [],
   "source": [
    "df_train = df[df[\"Datum\"] < \"2021-01-01\"]\n",
    "df_test = df[df[\"Datum\"] >= \"2021-01-01\"]"
   ]
  },
  {
   "cell_type": "markdown",
   "id": "e2d5d26b-6290-43b1-bcd5-709fdb1b9be4",
   "metadata": {},
   "source": [
    "**4. LSTM-model trainen en voorspellen (het algoritme)**\n",
    "\n",
    "mini neuraal netwerk (Long Short-Term Memory) = goed in voorspellen van patronen in data die in de tijd veranderen\n",
    "\n",
    "* Invoegen data\n",
    "* Model bouwen\n",
    "* Model trainen"
   ]
  },
  {
   "cell_type": "code",
   "execution_count": null,
   "id": "d8a19810-bb14-42ed-b9fe-d30a2d2dd171",
   "metadata": {},
   "outputs": [],
   "source": [
    "window_size = 730 # aantal dagen dat het model data gaat gebruiken= tijdstappen\n",
    "\n",
    "def create_sequences(data, window_size):\n",
    "    sequences, labels = [], []\n",
    "    for i in range(len(data) - window_size):\n",
    "        sequences.append(data[i:i+window_size])\n",
    "        labels.append(data[i+window_size])\n",
    "    return np.array(sequences), np.array(labels)\n",
    "\n",
    "# Voeg inputdata voor model toe door omzetten naar numpy array\n",
    "price_series_benzine = df_train[\"Benzineprijs\"].values.reshape(-1, 1)\n",
    "X_benzine, y_benzine = create_sequences(price_series_benzine, window_size)\n",
    "\n",
    "price_series_gas = df_train[\"Gasprijs\"].values.reshape(-1, 1)\n",
    "X_gas, y_gas = create_sequences(price_series_gas, window_size)\n",
    "\n",
    "# Bouw LSTM-model\n",
    "def build_lstm_model():\n",
    "    model = Sequential([\n",
    "        #laag 1:\n",
    "        LSTM(50, return_sequences=True, input_shape=(window_size, 1)),\n",
    "        Dropout(0.2),\n",
    "        #laag 2:\n",
    "        LSTM(50, return_sequences=False),\n",
    "        Dropout(0.2), \n",
    "        #laag 3:\n",
    "        Dense(25, activation=\"relu\"),\n",
    "        #laag 4:\n",
    "        Dense(1)\n",
    "    ])\n",
    "    model.compile(optimizer=\"adam\", loss=\"mean_squared_error\")\n",
    "    return model\n",
    "\n",
    "# EarlyStopping om training te stoppen als de loss niet meer verbetert\n",
    "early_stopping = EarlyStopping(monitor='val_loss', patience=2, restore_best_weights=True)\n",
    "\n",
    "# Train modellen met EarlyStopping en Dropout\n",
    "model_lstm_benzine = build_lstm_model()\n",
    "history_benzine = model_lstm_benzine.fit(\n",
    "    X_benzine, y_benzine, \n",
    "    epochs=10, batch_size=32, verbose=1, validation_split=0.1,\n",
    "    callbacks=[early_stopping]\n",
    ")\n",
    "\n",
    "model_lstm_gas = build_lstm_model()\n",
    "history_gas = model_lstm_gas.fit(\n",
    "    X_gas, y_gas, \n",
    "    epochs=10, batch_size=32, verbose=1, validation_split=0.1,\n",
    "    callbacks=[early_stopping]\n",
    ")"
   ]
  },
  {
   "cell_type": "code",
   "execution_count": null,
   "id": "896c3e85-158f-4df8-aff6-ec89110a13f3",
   "metadata": {},
   "outputs": [],
   "source": [
    "print(\"Aantal datapunten in df_train:\", len(df_train))\n",
    "print(\"Aantal benzineprijzen:\", df_train['Benzineprijs'].dropna().shape[0])\n",
    "print(\"Aantal sequences (X_benzine):\", X_benzine.shape[0])\n",
    "print(\"Aantal trainingsbatches (verwacht):\", int((X_benzine.shape[0] * 0.9) / 32))"
   ]
  },
  {
   "cell_type": "code",
   "execution_count": null,
   "id": "d62de3ff-e765-4476-93c6-88ed6c17c53a",
   "metadata": {},
   "outputs": [],
   "source": [
    "# Plot trainingsverlies per epoch\n",
    "plt.figure(figsize=(10,5))\n",
    "plt.plot(history_benzine.history['loss'], label=\"Benzine Training Loss\", linestyle='--')\n",
    "plt.plot(history_benzine.history['val_loss'], label=\"Benzine Validation Loss\", linestyle='-.')\n",
    "plt.plot(history_gas.history['loss'], label=\"Gas Training Loss\", linestyle='-')\n",
    "plt.plot(history_gas.history['val_loss'], label=\"Gas Validation Loss\", linestyle=':')\n",
    "plt.xlabel(\"Epochs\")\n",
    "plt.ylabel(\"Loss (Mean Squared Error)\")\n",
    "plt.title(\"Trainings- en Validatieverlies per Epoch\")\n",
    "plt.legend()\n",
    "plt.grid(True)\n",
    "plt.show()"
   ]
  },
  {
   "cell_type": "markdown",
   "id": "0f323dba-f00b-4efd-a551-d03affc25a07",
   "metadata": {},
   "source": [
    "**5. Voorspellingen genereren voor 2021-2025**"
   ]
  },
  {
   "cell_type": "code",
   "execution_count": null,
   "id": "2f93b467-dc65-4a8b-b31a-8645fa133974",
   "metadata": {},
   "outputs": [],
   "source": [
    "future_months = 12 * 5  # 5 jaar vooruit = 60 maanden\n",
    "future_steps = future_months\n",
    "\n",
    "future_steps = future_months\n",
    "tf.get_logger().setLevel('ERROR')\n",
    "\n",
    "def predict_future(model, last_window, steps):\n",
    "    predictions = []\n",
    "    current_window = last_window.copy()\n",
    "    \n",
    "    for _ in range(steps):\n",
    "        with tf.device('/CPU:0'):\n",
    "            prediction = model.predict(current_window.reshape(1, window_size, 1), verbose=0)[0][0]\n",
    "        \n",
    "        predictions.append(prediction)\n",
    "        current_window = np.append(current_window[1:], prediction).reshape(window_size, 1)\n",
    "    \n",
    "    return np.array(predictions)\n",
    "\n",
    "last_window_benzine = price_series_benzine[-window_size:]\n",
    "last_window_gas = price_series_gas[-window_size:]\n",
    "\n",
    "future_benzine = predict_future(model_lstm_benzine, last_window_benzine, future_steps)\n",
    "future_gas = predict_future(model_lstm_gas, last_window_gas, future_steps)"
   ]
  },
  {
   "cell_type": "markdown",
   "id": "df93221c-b146-42a0-b9b2-f5456672e106",
   "metadata": {},
   "source": [
    "**6. Voorspellingen opslaan en visualiseren**"
   ]
  },
  {
   "cell_type": "code",
   "execution_count": null,
   "id": "51919653-0819-403a-a425-220c84035934",
   "metadata": {},
   "outputs": [],
   "source": [
    "start_date = pd.to_datetime(\"2021-01-01\")\n",
    "future_dates = pd.date_range(start=start_date, periods=future_steps, freq='MS')\n",
    "\n",
    "future_df = pd.DataFrame({\n",
    "    \"Datum\": future_dates,\n",
    "    \"Voorspelde Benzineprijs (€)\": future_benzine,\n",
    "    \"Voorspelde Gasprijs (€)\": future_gas\n",
    "})\n",
    "future_df.set_index(\"Datum\", inplace=True)\n",
    "\n",
    "plt.figure(figsize=(12,6))\n",
    "\n",
    "plt.plot(df_train[\"Datum\"], df_train[\"Benzineprijs\"], label=\"Historische Benzineprijs\", color=\"blue\")\n",
    "plt.plot(df_train[\"Datum\"], df_train[\"Gasprijs\"], label=\"Historische Gasprijs\", color=\"red\")\n",
    "\n",
    "plt.plot(future_df.index, future_df[\"Voorspelde Benzineprijs (€)\"], label=\"Voorspelde Benzineprijs\", color=\"orange\", linestyle=\"dashed\")\n",
    "plt.plot(future_df.index, future_df[\"Voorspelde Gasprijs (€)\"], label=\"Voorspelde Gasprijs\", color=\"orange\", linestyle=\"dashed\")\n",
    "\n",
    "plt.plot(df_test[\"Datum\"], df_test[\"Benzineprijs\"], label=\"Echte Benzineprijs (Officiële Data)\", color=\"green\", linestyle=\"solid\")\n",
    "plt.plot(df_test[\"Datum\"], df_test[\"Gasprijs\"], label=\"Echte Gasprijs (Officiële Data)\", color=\"darkgreen\", linestyle=\"solid\")\n",
    "\n",
    "for year in range(2021, 2026):\n",
    "    if year in future_df.index.year:\n",
    "        year_data = future_df.loc[future_df.index.year == year]\n",
    "        first_entry = year_data.iloc[0]  # Eerste waarde van dat jaar\n",
    "        \n",
    "        # Benzineprijs-label met extra padding omhoog\n",
    "        plt.text(first_entry.name, first_entry[\"Voorspelde Benzineprijs (€)\"] + 0.05, \n",
    "                 f\"{first_entry['Voorspelde Benzineprijs (€)']:.2f}€\", \n",
    "                 verticalalignment='bottom', color=\"orange\", fontsize=10)\n",
    "        \n",
    "        # Gasprijs-label met extra padding omhoog\n",
    "        plt.text(first_entry.name, first_entry[\"Voorspelde Gasprijs (€)\"] - 0.08, \n",
    "                 f\"{first_entry['Voorspelde Gasprijs (€)']:.2f}€\", \n",
    "                 verticalalignment='bottom', color=\"orange\", fontsize=10)\n",
    "\n",
    "plt.xlabel(\"Datum\")\n",
    "plt.ylabel(\"Prijs (€)\")\n",
    "plt.title(\"Vergelijking Voorspelde en Officiële Benzine- en Gasprijzen (2021-2025)\")\n",
    "plt.legend()\n",
    "plt.show()\n"
   ]
  }
 ],
 "metadata": {
  "kernelspec": {
   "display_name": "Python 3 (ipykernel)",
   "language": "python",
   "name": "python3"
  },
  "language_info": {
   "codemirror_mode": {
    "name": "ipython",
    "version": 3
   },
   "file_extension": ".py",
   "mimetype": "text/x-python",
   "name": "python",
   "nbconvert_exporter": "python",
   "pygments_lexer": "ipython3",
   "version": "3.11.5"
  }
 },
 "nbformat": 4,
 "nbformat_minor": 5
}
