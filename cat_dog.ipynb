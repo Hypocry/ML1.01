{
 "cells": [
  {
   "cell_type": "markdown",
   "id": "184f56d8-8779-4516-91aa-f5ae333488cd",
   "metadata": {},
   "source": [
    "## MINI CNN"
   ]
  },
  {
   "cell_type": "code",
   "execution_count": null,
   "id": "7d4e4015-1d74-4926-aa86-813dbca200c9",
   "metadata": {},
   "outputs": [],
   "source": [
    "import numpy as np\n",
    "import matplotlib.pyplot as plt\n",
    "import tensorflow as tf\n",
    "from tensorflow.keras.applications.vgg16 import VGG16, preprocess_input, decode_predictions\n",
    "from tensorflow.keras.preprocessing import image\n",
    "from IPython.display import display, HTML\n",
    "import os\n",
    "\n",
    "tf.get_logger().setLevel('ERROR')"
   ]
  },
  {
   "cell_type": "markdown",
   "id": "3465d9b8-7e11-454c-b312-9fdeb3a57c5a",
   "metadata": {},
   "source": [
    "**Stap 1: Laad het VGG16-model**"
   ]
  },
  {
   "cell_type": "code",
   "execution_count": null,
   "id": "198d0986-7816-4e0b-bf8b-d2ff565b30e7",
   "metadata": {},
   "outputs": [],
   "source": [
    "model = VGG16(weights='imagenet') # deze download automatisch als je de cel runt"
   ]
  },
  {
   "cell_type": "markdown",
   "id": "9933b623-aae8-48d9-95f9-a5ee2e2ef2d0",
   "metadata": {},
   "source": [
    "**Stap 2: Laad en toon de originele afbeelding**"
   ]
  },
  {
   "cell_type": "code",
   "execution_count": null,
   "id": "891f2826-7c71-4183-8b41-e194b2bc6a71",
   "metadata": {},
   "outputs": [],
   "source": [
    "img_path = '../pictures/dog.jpg' #vul hier je eigen locatie in met een foto van bv een hond\n",
    "original_img = image.load_img(img_path)\n",
    "plt.figure(figsize=(5, 5))\n",
    "plt.imshow(original_img)\n",
    "plt.title('Originele afbeelding')\n",
    "plt.axis('off')\n",
    "plt.show()"
   ]
  },
  {
   "cell_type": "markdown",
   "id": "2cfd8f26-e858-4c0a-b28d-002546ceaae5",
   "metadata": {},
   "source": [
    "**Stap 3: Converteer afbeelding naar 224x224 pixels (VGG16-standaard)**"
   ]
  },
  {
   "cell_type": "code",
   "execution_count": null,
   "id": "9f8a921e-1e5a-43df-ab2f-33ae9dc8e0e5",
   "metadata": {},
   "outputs": [],
   "source": [
    "resized_img = image.load_img(img_path, target_size=(224, 224))\n",
    "plt.figure(figsize=(5, 5))\n",
    "plt.imshow(resized_img)\n",
    "plt.title('Afbeelding resized naar 224x224')\n",
    "plt.axis('off')\n",
    "plt.show()"
   ]
  },
  {
   "cell_type": "markdown",
   "id": "42a5770f-3588-4350-a697-8b6e0f786620",
   "metadata": {},
   "source": [
    "**Stap 4: Zet de afbeelding om naar een NumPy-array (soort python list)**"
   ]
  },
  {
   "cell_type": "code",
   "execution_count": null,
   "id": "bf6cad9c-b537-469d-ab0a-94913e53ea7d",
   "metadata": {},
   "outputs": [],
   "source": [
    "img_array = image.img_to_array(resized_img)\n",
    "print(\"Vorm van de afbeelding als array:\", img_array.shape) \n",
    "\n",
    "# Uitkomst: (224, 224, 3) → Dit betekent: 224 pixels breed, 224 pixels hoog, 3 kleurkanalen (RGB)."
   ]
  },
  {
   "cell_type": "markdown",
   "id": "332fa3b6-5686-45bd-b366-dfa7cac9ed16",
   "metadata": {},
   "source": [
    "**Stap 5: Toon de eerste 5 pixels van de bovenste rij (RGB-waarden)**"
   ]
  },
  {
   "cell_type": "code",
   "execution_count": null,
   "id": "7fb3bb2f-4cf8-4257-9ef2-d523651e50c8",
   "metadata": {},
   "outputs": [],
   "source": [
    "# Print de eerste 5 pixels in de bovenste rij als tekst\n",
    "print(\"Originele RGB-waarden (eerste 5 pixels in de bovenste rij):\")\n",
    "print(img_array[0, :5])  # Print eerste 5 pixels\n",
    "\n",
    "# Selecteer de eerste 5 pixels als een klein afbeeldingsfragment\n",
    "mini_img_first = img_array[:1, :5]  # Eerste rij, eerste 5 kolommen\n",
    "mini_img_first = mini_img_first.astype(int)  # Zorg dat het integers zijn\n",
    "\n",
    "# Visualiseer de eerste 5 pixels als een mini-afbeelding\n",
    "plt.figure(figsize=(5, 1))\n",
    "plt.imshow(mini_img_first)\n",
    "plt.title(\"Eerste 5 pixels\")\n",
    "plt.axis('off')\n",
    "plt.show()\n"
   ]
  },
  {
   "cell_type": "markdown",
   "id": "6f0eda4a-4af7-4674-b097-93068bdf1407",
   "metadata": {},
   "source": [
    "**Stap 6: Normaliseren met preprocess_input()**"
   ]
  },
  {
   "cell_type": "code",
   "execution_count": null,
   "id": "2c508175-ba5d-4133-9e87-8585bfa1f2fa",
   "metadata": {},
   "outputs": [],
   "source": [
    "img_array_expanded = np.expand_dims(img_array, axis=0)  # Voeg batchdimensie toe\n",
    "img_array_preprocessed = preprocess_input(img_array_expanded)  # Normaliseren"
   ]
  },
  {
   "cell_type": "markdown",
   "id": "532730ca-43e5-43ef-bfa0-c8ef8125608e",
   "metadata": {},
   "source": [
    "Neurale netwerken zijn sneller en beter als de invoerwaarden gecentreerd rond 0 zijn, in plaats van tussen 0 en 255. (andere optie is alles delen door 255, dan is alles tussen de 0 en 1)\n",
    "\n",
    "**ImageNet-gemiddelden per kleurkanaal:**\n",
    "- **Rood (R):** `123.68`\n",
    "- **Groen (G):** `116.78`\n",
    "- **Blauw (B):** `103.94`\n",
    "\n",
    "**Voorbeeldberekening:**\n",
    "```python\n",
    "R = 124.0 - 123.68  # = 0.32\n",
    "G = 129.0 - 116.78  # = 12.22\n",
    "B = 49.0 - 103.94   # = -54.94\n",
    "\n",
    "waarom?\n",
    "-waarden zijn niet meer tussen 0 en 255, maar verschuiven naar een bereik gecentreerd rondom 0.\n",
    "-positief getal is hoger dan gemiddeld\n",
    "-negatief getal is lager dan gemiddeld"
   ]
  },
  {
   "cell_type": "markdown",
   "id": "b6f3b142-cb55-4c81-8476-18dbdf0a6372",
   "metadata": {},
   "source": [
    "**Stap 7 : Modelvoorspelling uitvoeren**"
   ]
  },
  {
   "cell_type": "code",
   "execution_count": null,
   "id": "232a8874-cabf-411c-93bc-b61fa0cafc10",
   "metadata": {},
   "outputs": [],
   "source": [
    "predictions = model.predict(img_array_preprocessed)\n",
    "decoded_predictions = decode_predictions(predictions, top=3)[0]"
   ]
  },
  {
   "cell_type": "markdown",
   "id": "85e05c02-bcf7-48f3-8559-3eac93e802aa",
   "metadata": {},
   "source": [
    "**Stap 8: Toon de voorspelling**"
   ]
  },
  {
   "cell_type": "code",
   "execution_count": null,
   "id": "9831c469-35fc-49b3-8a22-a062f2d70a50",
   "metadata": {},
   "outputs": [],
   "source": [
    "html_output = \"<div style='font-size:20px;'>\"\n",
    "for i, (imagenet_id, label, score) in enumerate(decoded_predictions):\n",
    "    html_output += f\"{i+1}: <b>{label}</b> ({score:.2%})<br>\"\n",
    "html_output += \"</div>\"\n",
    "display(HTML(html_output))\n"
   ]
  },
  {
   "cell_type": "markdown",
   "id": "12c01eaa-4852-4ea3-857b-49678eefa67d",
   "metadata": {},
   "source": [
    "## 1000 labels?"
   ]
  },
  {
   "cell_type": "code",
   "execution_count": null,
   "id": "71e57757-34fc-44b2-9da6-6490c6a9ecde",
   "metadata": {},
   "outputs": [],
   "source": [
    "def load_and_process_image(img_path):\n",
    "    img = image.load_img(img_path, target_size=(224, 224))  # Resize afbeelding naar 224x224\n",
    "    img_array = image.img_to_array(img)  # Converteer naar NumPy array\n",
    "    img_array = np.expand_dims(img_array, axis=0)  # Voeg batch-dimensie toe (1, 224, 224, 3)\n",
    "    img_array = preprocess_input(img_array)  # Preprocessing voor VGG16\n",
    "    return img_array, img  # Geef zowel de array als de originele afbeelding terug"
   ]
  },
  {
   "cell_type": "code",
   "execution_count": null,
   "id": "bf1d055b-4e1b-4ac4-b392-58d1638bbed0",
   "metadata": {},
   "outputs": [],
   "source": [
    "#image_folder = '../pictures/batch_easy/' #vul hier je eigen locatie in waar je je afbeeldingen hebt neergezet.\n",
    "image_folder = '../pictures/batch_hard/' #vul hier je eigen locatie in waar je je afbeeldingen hebt neergezet.\n",
    "image_files = [os.path.join(image_folder, fname) for fname in os.listdir(image_folder) if fname.endswith(('.jpg', '.png', '.jpeg'))]\n",
    "\n",
    "batch_images = []\n",
    "original_images = []\n",
    "\n",
    "for img_path in image_files:\n",
    "    img_array, original_img = load_and_process_image(img_path)\n",
    "    batch_images.append(img_array)\n",
    "    original_images.append(original_img)"
   ]
  },
  {
   "cell_type": "code",
   "execution_count": null,
   "id": "92aa992f-f3e8-429b-b8f9-65dde056a6f6",
   "metadata": {},
   "outputs": [],
   "source": [
    "batch_images_array = np.vstack(batch_images)\n",
    "print(\"Vorm van de batch:\", batch_images_array.shape)  \n",
    "predictions = model.predict(batch_images_array)\n",
    "plt.figure(figsize=(15, len(image_files) * 3)) \n",
    "\n",
    "for i, pred in enumerate(predictions):\n",
    "    decoded = decode_predictions(np.expand_dims(pred, axis=0), top=1)[0][0]  # Alleen eerste voorspelling\n",
    "\n",
    "    best_label = decoded[1]  \n",
    "    best_score = decoded[2]  \n",
    "    prediction_text = f\"{best_label} ({best_score:.2%})\"\n",
    "    plt.subplot(len(image_files), 1, i + 1)\n",
    "    plt.imshow(original_images[i])\n",
    "    plt.title(f\"Afbeelding {i+1}: {prediction_text}\")\n",
    "    plt.axis(\"off\")\n",
    "\n",
    "plt.tight_layout()\n",
    "plt.show()"
   ]
  },
  {
   "cell_type": "code",
   "execution_count": null,
   "id": "3d201285-bac4-469c-a035-4649a1a5ca4a",
   "metadata": {},
   "outputs": [],
   "source": []
  }
 ],
 "metadata": {
  "kernelspec": {
   "display_name": "Python 3 (ipykernel)",
   "language": "python",
   "name": "python3"
  },
  "language_info": {
   "codemirror_mode": {
    "name": "ipython",
    "version": 3
   },
   "file_extension": ".py",
   "mimetype": "text/x-python",
   "name": "python",
   "nbconvert_exporter": "python",
   "pygments_lexer": "ipython3",
   "version": "3.11.5"
  }
 },
 "nbformat": 4,
 "nbformat_minor": 5
}
