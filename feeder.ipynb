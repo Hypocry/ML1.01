{
 "cells": [
  {
   "cell_type": "markdown",
   "id": "e28f24c8-6540-40b7-a5bb-1b91b9391199",
   "metadata": {},
   "source": [
    "**feeder**"
   ]
  },
  {
   "cell_type": "markdown",
   "id": "7a1509b1-0b5d-4e42-b0fd-008320f26250",
   "metadata": {},
   "source": [
    "## Foto module (set maken met gezichten)"
   ]
  },
  {
   "cell_type": "code",
   "execution_count": 1,
   "id": "013e3bfb-b667-4cf4-bdb6-ec36628ebaa0",
   "metadata": {},
   "outputs": [],
   "source": [
    "import cv2\n",
    "import os\n",
    "from datetime import datetime\n",
    "import ipywidgets as widgets\n",
    "from IPython.display import display\n",
    "from threading import Thread, Lock\n",
    "import time\n",
    "import numpy as np\n",
    "import dlib\n",
    "import random\n",
    "\n",
    "from tensorflow.keras.models import Sequential\n",
    "from tensorflow.keras.layers import Conv2D, MaxPooling2D, Flatten, Dense, Dropout\n",
    "from tensorflow.keras.preprocessing.image import ImageDataGenerator\n",
    "from sklearn.utils import shuffle"
   ]
  },
  {
   "cell_type": "code",
   "execution_count": 2,
   "id": "3348a793-a76f-4370-ba99-b4cfc8e940fb",
   "metadata": {},
   "outputs": [],
   "source": [
    "#RTSP_URL = \"jouw_eigen_rtsp_link"\n",
    "cap = cv2.VideoCapture(1) #of 0"
   ]
  },
  {
   "cell_type": "code",
   "execution_count": 3,
   "id": "c9a90551-bc8d-48ca-b547-9db47e433f8f",
   "metadata": {},
   "outputs": [],
   "source": [
    "BASE_DIR = \"datasets\"\n",
    "os.makedirs(BASE_DIR, exist_ok=True)"
   ]
  },
  {
   "cell_type": "code",
   "execution_count": 4,
   "id": "fafbb8ab-6218-4d31-99b2-189defc0e847",
   "metadata": {},
   "outputs": [
    {
     "data": {
      "application/vnd.jupyter.widget-view+json": {
       "model_id": "cab8726d67b24a348ff98f2aeed641be",
       "version_major": 2,
       "version_minor": 0
      },
      "text/plain": [
       "Text(value='', description='Naam:')"
      ]
     },
     "metadata": {},
     "output_type": "display_data"
    },
    {
     "data": {
      "application/vnd.jupyter.widget-view+json": {
       "model_id": "8a9e38d98a10404a83efd045eaa70c25",
       "version_major": 2,
       "version_minor": 0
      },
      "text/plain": [
       "Button(description='Bevestig Naam', style=ButtonStyle())"
      ]
     },
     "metadata": {},
     "output_type": "display_data"
    },
    {
     "data": {
      "application/vnd.jupyter.widget-view+json": {
       "model_id": "e28d2e39eb9e4218bae800b8c42f5d3d",
       "version_major": 2,
       "version_minor": 0
      },
      "text/plain": [
       "Image(value=b'', format='jpeg')"
      ]
     },
     "metadata": {},
     "output_type": "display_data"
    },
    {
     "data": {
      "application/vnd.jupyter.widget-view+json": {
       "model_id": "1dbe2d7bd0f547b681cfb3f4409eb380",
       "version_major": 2,
       "version_minor": 0
      },
      "text/plain": [
       "Button(description='📸 Foto maken', disabled=True, style=ButtonStyle())"
      ]
     },
     "metadata": {},
     "output_type": "display_data"
    },
    {
     "data": {
      "application/vnd.jupyter.widget-view+json": {
       "model_id": "0b3d9902f49c45e48652a4a3e4075ebe",
       "version_major": 2,
       "version_minor": 0
      },
      "text/plain": [
       "Button(description='Stop', style=ButtonStyle())"
      ]
     },
     "metadata": {},
     "output_type": "display_data"
    },
    {
     "data": {
      "application/vnd.jupyter.widget-view+json": {
       "model_id": "23dac0f9751a413a8d0e8e3cc3771154",
       "version_major": 2,
       "version_minor": 0
      },
      "text/plain": [
       "Output()"
      ]
     },
     "metadata": {},
     "output_type": "display_data"
    },
    {
     "name": "stdout",
     "output_type": "stream",
     "text": [
      "✅ Foto opgeslagen: datasets\\Marieke_2/Marieke_2_20250321_100509.jpg\n",
      "✅ Foto opgeslagen: datasets\\Marieke_2/Marieke_2_20250321_100510.jpg\n",
      "✅ Foto opgeslagen: datasets\\Marieke_2/Marieke_2_20250321_100511.jpg\n",
      "✅ Foto opgeslagen: datasets\\Marieke_2/Marieke_2_20250321_100511.jpg\n",
      "✅ Foto opgeslagen: datasets\\Marieke_2/Marieke_2_20250321_100512.jpg\n",
      "✅ Foto opgeslagen: datasets\\Marieke_2/Marieke_2_20250321_100512.jpg\n",
      "✅ Foto opgeslagen: datasets\\Marieke_2/Marieke_2_20250321_100513.jpg\n",
      "✅ Foto opgeslagen: datasets\\Marieke_2/Marieke_2_20250321_100513.jpg\n",
      "✅ Foto opgeslagen: datasets\\Marieke_2/Marieke_2_20250321_100514.jpg\n",
      "✅ Foto opgeslagen: datasets\\Marieke_2/Marieke_2_20250321_100514.jpg\n",
      "✅ Foto opgeslagen: datasets\\Marieke_2/Marieke_2_20250321_100515.jpg\n",
      "✅ Foto opgeslagen: datasets\\Marieke_2/Marieke_2_20250321_100515.jpg\n",
      "✅ Foto opgeslagen: datasets\\Marieke_2/Marieke_2_20250321_100516.jpg\n",
      "✅ Foto opgeslagen: datasets\\Marieke_2/Marieke_2_20250321_100516.jpg\n",
      "✅ Foto opgeslagen: datasets\\Marieke_2/Marieke_2_20250321_100516.jpg\n",
      "✅ Foto opgeslagen: datasets\\Marieke_2/Marieke_2_20250321_100516.jpg\n",
      "✅ Foto opgeslagen: datasets\\Marieke_2/Marieke_2_20250321_100516.jpg\n",
      "✅ Foto opgeslagen: datasets\\Marieke_2/Marieke_2_20250321_100517.jpg\n",
      "✅ Foto opgeslagen: datasets\\Marieke_2/Marieke_2_20250321_100517.jpg\n",
      "✅ Foto opgeslagen: datasets\\Marieke_2/Marieke_2_20250321_100517.jpg\n",
      "✅ Foto opgeslagen: datasets\\Marieke_2/Marieke_2_20250321_100517.jpg\n",
      "✅ Foto opgeslagen: datasets\\Marieke_2/Marieke_2_20250321_100517.jpg\n",
      "✅ Foto opgeslagen: datasets\\Marieke_2/Marieke_2_20250321_100517.jpg\n",
      "✅ Foto opgeslagen: datasets\\Marieke_2/Marieke_2_20250321_100518.jpg\n",
      "✅ Foto opgeslagen: datasets\\Marieke_2/Marieke_2_20250321_100518.jpg\n",
      "✅ Foto opgeslagen: datasets\\Marieke_2/Marieke_2_20250321_100518.jpg\n",
      "✅ Foto opgeslagen: datasets\\Marieke_2/Marieke_2_20250321_100518.jpg\n",
      "✅ Foto opgeslagen: datasets\\Marieke_2/Marieke_2_20250321_100518.jpg\n",
      "✅ Foto opgeslagen: datasets\\Marieke_2/Marieke_2_20250321_100519.jpg\n",
      "✅ Foto opgeslagen: datasets\\Marieke_2/Marieke_2_20250321_100519.jpg\n",
      "✅ Foto opgeslagen: datasets\\Marieke_2/Marieke_2_20250321_100519.jpg\n",
      "✅ Foto opgeslagen: datasets\\Marieke_2/Marieke_2_20250321_100519.jpg\n",
      "✅ Foto opgeslagen: datasets\\Marieke_2/Marieke_2_20250321_100519.jpg\n",
      "✅ Foto opgeslagen: datasets\\Marieke_2/Marieke_2_20250321_100520.jpg\n",
      "✅ Foto opgeslagen: datasets\\Marieke_2/Marieke_2_20250321_100520.jpg\n",
      "✅ Foto opgeslagen: datasets\\Marieke_2/Marieke_2_20250321_100520.jpg\n",
      "✅ Foto opgeslagen: datasets\\Marieke_2/Marieke_2_20250321_100520.jpg\n",
      "✅ Foto opgeslagen: datasets\\Marieke_2/Marieke_2_20250321_100520.jpg\n",
      "✅ Foto opgeslagen: datasets\\Marieke_2/Marieke_2_20250321_100521.jpg\n",
      "✅ Foto opgeslagen: datasets\\Marieke_2/Marieke_2_20250321_100521.jpg\n",
      "✅ Foto opgeslagen: datasets\\Marieke_2/Marieke_2_20250321_100521.jpg\n",
      "✅ Foto opgeslagen: datasets\\Marieke_2/Marieke_2_20250321_100521.jpg\n",
      "✅ Foto opgeslagen: datasets\\Marieke_2/Marieke_2_20250321_100521.jpg\n",
      "✅ Foto opgeslagen: datasets\\Marieke_2/Marieke_2_20250321_100522.jpg\n",
      "✅ Foto opgeslagen: datasets\\Marieke_2/Marieke_2_20250321_100522.jpg\n",
      "✅ Foto opgeslagen: datasets\\Marieke_2/Marieke_2_20250321_100522.jpg\n",
      "✅ Foto opgeslagen: datasets\\Marieke_2/Marieke_2_20250321_100522.jpg\n",
      "✅ Foto opgeslagen: datasets\\Marieke_2/Marieke_2_20250321_100522.jpg\n",
      "✅ Foto opgeslagen: datasets\\Marieke_2/Marieke_2_20250321_100522.jpg\n",
      "✅ Foto opgeslagen: datasets\\Marieke_2/Marieke_2_20250321_100523.jpg\n",
      "✅ Foto opgeslagen: datasets\\Marieke_2/Marieke_2_20250321_100523.jpg\n",
      "✅ Foto opgeslagen: datasets\\Marieke_2/Marieke_2_20250321_100523.jpg\n",
      "✅ Foto opgeslagen: datasets\\Marieke_2/Marieke_2_20250321_100523.jpg\n",
      "✅ Foto opgeslagen: datasets\\Marieke_2/Marieke_2_20250321_100523.jpg\n",
      "✅ Foto opgeslagen: datasets\\Marieke_2/Marieke_2_20250321_100523.jpg\n",
      "✅ Foto opgeslagen: datasets\\Marieke_2/Marieke_2_20250321_100524.jpg\n",
      "✅ Foto opgeslagen: datasets\\Marieke_2/Marieke_2_20250321_100524.jpg\n",
      "✅ Foto opgeslagen: datasets\\Marieke_2/Marieke_2_20250321_100524.jpg\n",
      "✅ Foto opgeslagen: datasets\\Marieke_2/Marieke_2_20250321_100524.jpg\n",
      "✅ Foto opgeslagen: datasets\\Marieke_2/Marieke_2_20250321_100524.jpg\n",
      "✅ Foto opgeslagen: datasets\\Marieke_2/Marieke_2_20250321_100525.jpg\n",
      "✅ Foto opgeslagen: datasets\\Marieke_2/Marieke_2_20250321_100525.jpg\n",
      "✅ Foto opgeslagen: datasets\\Marieke_2/Marieke_2_20250321_100525.jpg\n"
     ]
    }
   ],
   "source": [
    "name_input = widgets.Text(description=\"Naam:\")\n",
    "set_name_button = widgets.Button(description=\"Bevestig Naam\")\n",
    "image_widget = widgets.Image(format='jpeg')\n",
    "capture_button = widgets.Button(description=\"Foto maken\", disabled=True)  # Eerst naam invoeren\n",
    "stop_button = widgets.Button(description=\"Stop\")\n",
    "output = widgets.Output()\n",
    "\n",
    "display(name_input, set_name_button, image_widget, capture_button, stop_button, output)\n",
    "\n",
    "lock = Lock()\n",
    "\n",
    "running = True\n",
    "SAVE_DIR = None  # Wordt ingesteld na naam invoer\n",
    "\n",
    "def update_stream():\n",
    "    global running\n",
    "    while running:\n",
    "        with lock:\n",
    "            ret, frame = cap.read()\n",
    "        \n",
    "        if ret:\n",
    "            _, buffer = cv2.imencode('.jpg', frame)\n",
    "            image_widget.value = buffer.tobytes()\n",
    "        \n",
    "        time.sleep(0.05)  # 20 FPS\n",
    "\n",
    "def capture_photo(_):\n",
    "    def save_image():\n",
    "        if SAVE_DIR is None:\n",
    "            with output:\n",
    "                print(\"Voer eerst een naam in en bevestig!\")\n",
    "            return\n",
    "        \n",
    "        with lock:\n",
    "            ret, frame = cap.read()\n",
    "        \n",
    "        if ret:\n",
    "            filename = f\"{SAVE_DIR}/{name_input.value}_{datetime.now().strftime('%Y%m%d_%H%M%S')}.jpg\"\n",
    "            cv2.imwrite(filename, frame)\n",
    "            with output:\n",
    "                print(f\"Foto opgeslagen: {filename}\")\n",
    "        else:\n",
    "            with output:\n",
    "                print(\"Fout: Kon geen frame vastleggen!\")\n",
    "\n",
    "    Thread(target=save_image, daemon=True).start()\n",
    "\n",
    "def set_name(_):\n",
    "    global SAVE_DIR\n",
    "    person_name = name_input.value.strip()\n",
    "\n",
    "    if not person_name:\n",
    "        with output:\n",
    "            print(\"Naam mag niet leeg zijn!\")\n",
    "        return\n",
    "    \n",
    "    SAVE_DIR = os.path.join(BASE_DIR, person_name)\n",
    "    os.makedirs(SAVE_DIR, exist_ok=True)\n",
    "    \n",
    "    capture_button.disabled = False  # Activeer de foto maken knop\n",
    "    with output:\n",
    "        print(f\"Dataset-map ingesteld: {SAVE_DIR}\")\n",
    "\n",
    "def stop_stream(_):\n",
    "    global running\n",
    "    running = False\n",
    "    with lock:\n",
    "        cap.release()\n",
    "    with output:\n",
    "        print(\"Stream gestopt.\")\n",
    "\n",
    "set_name_button.on_click(set_name)\n",
    "capture_button.on_click(capture_photo)\n",
    "stop_button.on_click(stop_stream)\n",
    "\n",
    "thread = Thread(target=update_stream, daemon=True)\n",
    "thread.start()\n"
   ]
  },
  {
   "cell_type": "markdown",
   "id": "d0f03763-db6c-4227-b36b-1f841f65166f",
   "metadata": {},
   "source": [
    "### FACE detection (dataset maken met alleen de gezichten)"
   ]
  },
  {
   "cell_type": "code",
   "execution_count": 5,
   "id": "4804f692-db53-45fd-b044-1298b5f39141",
   "metadata": {},
   "outputs": [
    {
     "data": {
      "application/vnd.jupyter.widget-view+json": {
       "model_id": "89b13ac115464bb58427c62f3b6100e5",
       "version_major": 2,
       "version_minor": 0
      },
      "text/plain": [
       "Dropdown(description='Selecteer Naam:', options=('Arend', 'Bobby', 'Joost', 'Marieke_2', 'PJ', 'Robert', 'Unkn…"
      ]
     },
     "metadata": {},
     "output_type": "display_data"
    },
    {
     "data": {
      "application/vnd.jupyter.widget-view+json": {
       "model_id": "f1349f992ec54e118cfd823f5f7951b9",
       "version_major": 2,
       "version_minor": 0
      },
      "text/plain": [
       "Button(description='Start Gezichtsdetectie', style=ButtonStyle())"
      ]
     },
     "metadata": {},
     "output_type": "display_data"
    },
    {
     "data": {
      "application/vnd.jupyter.widget-view+json": {
       "model_id": "618ac96eeb1e451b94f24f49ba72d919",
       "version_major": 2,
       "version_minor": 0
      },
      "text/plain": [
       "Output()"
      ]
     },
     "metadata": {},
     "output_type": "display_data"
    }
   ],
   "source": [
    "# Ophalen van beschikbare dataset-mappen\n",
    "available_datasets = [d for d in os.listdir(BASE_DIR) if os.path.isdir(os.path.join(BASE_DIR, d))]\n",
    "\n",
    "# Dropdown-menu voor dataset-selectie\n",
    "dataset_dropdown = widgets.Dropdown(\n",
    "    options=available_datasets,\n",
    "    description=\"Selecteer Naam:\"\n",
    ")\n",
    "process_button = widgets.Button(description=\"Start Gezichtsdetectie\")\n",
    "output = widgets.Output()\n",
    "\n",
    "# Weergave in Notebook\n",
    "display(dataset_dropdown, process_button, output)\n",
    "\n",
    "# Functie voor gezichtsdetectie\n",
    "def process_faces(_):\n",
    "    selected_name = dataset_dropdown.value\n",
    "    if not selected_name:\n",
    "        with output:\n",
    "            print(\"Selecteer een dataset om te verwerken.\")\n",
    "        return\n",
    "\n",
    "    DATASET_DIR = os.path.join(BASE_DIR, selected_name)\n",
    "    PROCESSED_DIR = os.path.join(DATASET_DIR, \"processed_faces\")\n",
    "    os.makedirs(PROCESSED_DIR, exist_ok=True)\n",
    "\n",
    "    face_cascade = cv2.CascadeClassifier(cv2.data.haarcascades + 'haarcascade_frontalface_default.xml')\n",
    "    detector = dlib.get_frontal_face_detector()\n",
    "\n",
    "    for filename in os.listdir(DATASET_DIR):\n",
    "        img_path = os.path.join(DATASET_DIR, filename)\n",
    "        img = cv2.imread(img_path)\n",
    "\n",
    "        if img is None:\n",
    "            with output:\n",
    "                print(f\"Kan afbeelding {filename} niet openen, overslaan.\")\n",
    "            continue\n",
    "\n",
    "        gray = cv2.cvtColor(img, cv2.COLOR_BGR2GRAY)\n",
    "        faces = detector(gray)\n",
    "\n",
    "        if len(faces) == 0:\n",
    "            with output:\n",
    "                print(f\"Geen gezichten gevonden in {filename}, overslaan.\")\n",
    "            continue\n",
    "\n",
    "        for i, face in enumerate(faces):\n",
    "            x, y, w, h = face.left(), face.top(), face.width(), face.height()\n",
    "\n",
    "            if w < 50 or h < 50:\n",
    "                with output:\n",
    "                    print(f\"Klein gezicht gedetecteerd in {filename}, overslaan.\")\n",
    "                continue\n",
    "\n",
    "            aspect_ratio = w / h\n",
    "            if aspect_ratio < 0.8 or aspect_ratio > 1.2:\n",
    "                with output:\n",
    "                    print(f\"Ongebruikelijk gezicht in {filename}, overslaan.\")\n",
    "                continue\n",
    "\n",
    "            face_img = img[y:y+h, x:x+w]\n",
    "            face_resized = cv2.resize(face_img, (100, 100))\n",
    "            save_path = os.path.join(PROCESSED_DIR, f\"{filename}_face{i}.jpg\")\n",
    "            cv2.imwrite(save_path, face_resized)\n",
    "\n",
    "            with output:\n",
    "                print(f\"Gezicht uit {filename} opgeslagen als {save_path}\")\n",
    "\n",
    "    with output:\n",
    "        print(f\"Alle gezichten opgeslagen in {PROCESSED_DIR}\")\n",
    "\n",
    "# Koppel knop aan functie\n",
    "process_button.on_click(process_faces)\n"
   ]
  },
  {
   "cell_type": "code",
   "execution_count": null,
   "id": "0e676f52-b781-4268-88ea-87caf14d293d",
   "metadata": {},
   "outputs": [],
   "source": []
  }
 ],
 "metadata": {
  "kernelspec": {
   "display_name": "Python 3 (ipykernel)",
   "language": "python",
   "name": "python3"
  },
  "language_info": {
   "codemirror_mode": {
    "name": "ipython",
    "version": 3
   },
   "file_extension": ".py",
   "mimetype": "text/x-python",
   "name": "python",
   "nbconvert_exporter": "python",
   "pygments_lexer": "ipython3",
   "version": "3.11.5"
  }
 },
 "nbformat": 4,
 "nbformat_minor": 5
}
